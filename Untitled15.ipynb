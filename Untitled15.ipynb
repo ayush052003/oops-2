{
 "cells": [
  {
   "cell_type": "code",
   "execution_count": 1,
   "id": "38937ef1-dea2-4fdb-891b-58dbb62b6508",
   "metadata": {},
   "outputs": [
    {
     "data": {
      "text/plain": [
       "'Q1. Explain Class and Object with respect to Object-Oriented Programming. Give a suitable example.'"
      ]
     },
     "execution_count": 1,
     "metadata": {},
     "output_type": "execute_result"
    }
   ],
   "source": [
    "'''Q1. Explain Class and Object with respect to Object-Oriented Programming. Give a suitable example.'''"
   ]
  },
  {
   "cell_type": "code",
   "execution_count": 2,
   "id": "b6d97f85-f812-4802-882a-61f4a11cb6be",
   "metadata": {},
   "outputs": [],
   "source": [
    "# In object-oriented programming, a class is a blueprint for creating objects (instances of a class). It defines the data and behaviors \n",
    "# (methods) that the objects of the class will have.\n",
    "\n",
    "# For example-- consider a class Triangle , which could have attributes sides a,b,c and methods like perimeter, area.\n",
    "\n",
    "class Triangle:\n",
    "\n",
    "    \"\"\"\n",
    "    Defining Class Triangle Constructor method 3 sides\n",
    "    \"\"\"\n",
    "\n",
    "    def __init__(self, a,b,c):\n",
    "        self.a = a\n",
    "        self.b = b\n",
    "        self.c = c\n",
    "\n",
    "    def isTriangle(self):\n",
    "        \"\"\"\n",
    "        for triangle to form sum of any two sides\n",
    "        should be greater than third this function checks this\n",
    "        \"\"\"\n",
    "        if (self.a + self.b)>self.c and (self.b + self.c)>self.a and (self.a + self.c)>self.b:\n",
    "            x = True\n",
    "        else:\n",
    "            x = False\n",
    "        return x\n",
    "    \n",
    "    def perimeter(self):\n",
    "        \"\"\"\n",
    "        This function returns perimeter of triangle\n",
    "        p = a+b+c\n",
    "        only if sides a,b,c form a triangle\n",
    "        \"\"\"\n",
    "        if self.isTriangle()==True:\n",
    "            p = self.a + self.b + self.c\n",
    "        else:\n",
    "            p = None\n",
    "            print(f'The sides {self.a}, {self.b}, {self.c} do not form a triangle')\n",
    "        return p\n",
    "\n",
    "    def area(self):\n",
    "        \"\"\"\n",
    "        This funtion returns area of triangle based on \n",
    "        Herons formula\n",
    "        only if sides a,b,c form a triangle\n",
    "        \"\"\"\n",
    "        if self.isTriangle()==True:\n",
    "            s = (self.a+self.b+self.c)/2 #Semi-perimeter calculation\n",
    "            ar = (s*(s-self.a)*(s-self.b)*(s-self.c))**0.5\n",
    "        else:\n",
    "            ar = None\n",
    "            print(f'The sides {self.a}, {self.b}, {self.c} do not form a triangle')\n",
    "        return ar"
   ]
  },
  {
   "cell_type": "code",
   "execution_count": 3,
   "id": "8330b041-ca52-4fc7-9c05-c6d000e63163",
   "metadata": {},
   "outputs": [],
   "source": [
    "t1 = Triangle(3,4,5)"
   ]
  },
  {
   "cell_type": "code",
   "execution_count": 4,
   "id": "3b41d07a-ba5e-4d43-afe6-3d203bcb1a55",
   "metadata": {},
   "outputs": [
    {
     "name": "stdout",
     "output_type": "stream",
     "text": [
      "<class '__main__.Triangle'>\n"
     ]
    }
   ],
   "source": [
    "print(type(t1))"
   ]
  },
  {
   "cell_type": "code",
   "execution_count": 5,
   "id": "fbade6e5-5004-4e68-8277-017cd6e23ac3",
   "metadata": {},
   "outputs": [
    {
     "data": {
      "text/plain": [
       "True"
      ]
     },
     "execution_count": 5,
     "metadata": {},
     "output_type": "execute_result"
    }
   ],
   "source": [
    "t1.isTriangle()"
   ]
  },
  {
   "cell_type": "code",
   "execution_count": 6,
   "id": "df0ab4e4-c3ed-496d-b243-a9eefa97818f",
   "metadata": {},
   "outputs": [
    {
     "data": {
      "text/plain": [
       "12"
      ]
     },
     "execution_count": 6,
     "metadata": {},
     "output_type": "execute_result"
    }
   ],
   "source": [
    "t1.perimeter()"
   ]
  },
  {
   "cell_type": "code",
   "execution_count": 7,
   "id": "c66297d7-ba41-4990-9c95-35691c52e612",
   "metadata": {},
   "outputs": [
    {
     "data": {
      "text/plain": [
       "6.0"
      ]
     },
     "execution_count": 7,
     "metadata": {},
     "output_type": "execute_result"
    }
   ],
   "source": [
    "t1.area()"
   ]
  },
  {
   "cell_type": "code",
   "execution_count": 8,
   "id": "01888e43-08a8-4adb-a067-219ee46492db",
   "metadata": {},
   "outputs": [
    {
     "name": "stdout",
     "output_type": "stream",
     "text": [
      "False\n"
     ]
    }
   ],
   "source": [
    "t2 = Triangle(1,2,3)\n",
    "print(t2.isTriangle())"
   ]
  },
  {
   "cell_type": "code",
   "execution_count": 9,
   "id": "92dd30a5-016d-421d-8b54-fb0cbef4f81f",
   "metadata": {},
   "outputs": [
    {
     "data": {
      "text/plain": [
       "'Q2. Name the four pillars of OOPs'"
      ]
     },
     "execution_count": 9,
     "metadata": {},
     "output_type": "execute_result"
    }
   ],
   "source": [
    "'''Q2. Name the four pillars of OOPs'''"
   ]
  },
  {
   "cell_type": "code",
   "execution_count": 10,
   "id": "e51679d5-41fc-48bb-b5bb-83ad2ee9f815",
   "metadata": {},
   "outputs": [],
   "source": [
    "# Abstraction: This refers to the idea of hiding the implementation details and only showing the relevant information to the user. \n",
    "# It allows the user to focus on the objects and their behavior, rather than the underlying code.\n",
    "\n",
    "# Encapsulation: This is the mechanism of wrapping data and functions within a single unit (object) to protect the data from external \n",
    "# access and modification. This helps to maintain the integrity of the data and the object.\n",
    "\n",
    "# Inheritance: This is a mechanism of creating new classes (child classes) from existing classes (parent classes). The child classes inherit \n",
    "# the attributes and behaviors of the parent class, and can also have their own unique attributes and behaviors. This helps to reduce code duplication and promote code reuse.\n",
    "\n",
    "# Polymorphism: This refers to the ability of objects of different classes to respond to the same method call in different ways. This allows\n",
    "# objects to be treated as objects of their parent class, while still retaining their unique behavior. This enables objects to be used \n",
    "# interchangeably, reducing code complexity and improving code maintainability."
   ]
  },
  {
   "cell_type": "code",
   "execution_count": 11,
   "id": "f7c88f91-78e9-4a02-b269-4984d39af906",
   "metadata": {},
   "outputs": [
    {
     "data": {
      "text/plain": [
       "'Q3. Explain why the __init__() function is used. Give a suitable example.'"
      ]
     },
     "execution_count": 11,
     "metadata": {},
     "output_type": "execute_result"
    }
   ],
   "source": [
    "'''Q3. Explain why the __init__() function is used. Give a suitable example.'''"
   ]
  },
  {
   "cell_type": "code",
   "execution_count": 12,
   "id": "bd595e8c-e2b8-48b4-9ce1-dadb89edd42d",
   "metadata": {},
   "outputs": [],
   "source": [
    "# The __init__() function is a special method in Python classes, known as the constructor method.\n",
    "# It is automatically called when an object of the class is created, and is used to initialize the attributes of the object\n",
    "# For Example consider a class 'car' that has attributes 'manufacturer', 'weight' and color\n",
    "# __init__() function can be used to initialize attribute manufacturer, weight and color when car object is created\n",
    "\n",
    "class car:\n",
    "    \"\"\"\n",
    "    Definining a class car with initialized \n",
    "    Manufactured, weight and color attributes\n",
    "    \"\"\"\n",
    "\n",
    "    def __init__(self, manufacturer, weight, color):\n",
    "        self.manufacturer = manufacturer\n",
    "        self.weight = weight\n",
    "        self.color = color"
   ]
  },
  {
   "cell_type": "code",
   "execution_count": 14,
   "id": "1276b6e3-4140-4432-8ded-14ab1933d17f",
   "metadata": {},
   "outputs": [
    {
     "name": "stdout",
     "output_type": "stream",
     "text": [
      "koenigsegg\n",
      "1700\n",
      "akara orange\n"
     ]
    }
   ],
   "source": [
    "# Defining a seltos car object and printing each attribute\n",
    "seltos = car('koenigsegg',1700,'akara orange')\n",
    "print(seltos.manufacturer)\n",
    "print(seltos.weight)\n",
    "print(seltos.color)"
   ]
  },
  {
   "cell_type": "code",
   "execution_count": 15,
   "id": "aa5f02c7-919e-4f97-a092-838cdbb27f28",
   "metadata": {},
   "outputs": [
    {
     "data": {
      "text/plain": [
       "'Q4. Why self is used in OOPs?'"
      ]
     },
     "execution_count": 15,
     "metadata": {},
     "output_type": "execute_result"
    }
   ],
   "source": [
    "'''Q4. Why self is used in OOPs?'''"
   ]
  },
  {
   "cell_type": "code",
   "execution_count": 16,
   "id": "c51d93af-104a-4895-83b4-e431b9870659",
   "metadata": {},
   "outputs": [],
   "source": [
    "# In object-oriented programming (OOP), the self keyword is used as a reference to the instance of the object that is calling the method.\n",
    "# It is used to access the attributes and methods of the object within the class"
   ]
  },
  {
   "cell_type": "code",
   "execution_count": 17,
   "id": "766d4e21-6d9f-4297-afce-56caebe8f6a8",
   "metadata": {},
   "outputs": [
    {
     "data": {
      "text/plain": [
       "'Q5. What is inheritance? Give an example for each type of inheritance'"
      ]
     },
     "execution_count": 17,
     "metadata": {},
     "output_type": "execute_result"
    }
   ],
   "source": [
    "'''Q5. What is inheritance? Give an example for each type of inheritance'''"
   ]
  },
  {
   "cell_type": "code",
   "execution_count": null,
   "id": "25116e2c-808e-4dec-be07-c5ab190c4528",
   "metadata": {},
   "outputs": [],
   "source": [
    "# Inheritance is a mechanism in object-oriented programming (OOP) that allows a new class to be created based on an existing class.\n",
    "# The new class inherits the attributes and behaviors of the existing class, and can also add its own unique attributes and behaviors.\n",
    "\n",
    "Single Inheritance : When child class is derived from only one parent class. This is called single inheritance\n",
    "Multiple Inheritance: When child class is derived or inherited from more than one parent class. This is called multiple inheritance. In multiple inheritance, we have two parent classes/base classes and one child class that inherits both parent classes properties."
   ]
  }
 ],
 "metadata": {
  "kernelspec": {
   "display_name": "Python 3 (ipykernel)",
   "language": "python",
   "name": "python3"
  },
  "language_info": {
   "codemirror_mode": {
    "name": "ipython",
    "version": 3
   },
   "file_extension": ".py",
   "mimetype": "text/x-python",
   "name": "python",
   "nbconvert_exporter": "python",
   "pygments_lexer": "ipython3",
   "version": "3.10.8"
  }
 },
 "nbformat": 4,
 "nbformat_minor": 5
}
